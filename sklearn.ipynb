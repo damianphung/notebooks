{
  "nbformat": 4,
  "nbformat_minor": 0,
  "metadata": {
    "colab": {
      "name": "sklearn.ipynb",
      "provenance": [],
      "collapsed_sections": []
    },
    "kernelspec": {
      "name": "python3",
      "display_name": "Python 3"
    },
    "accelerator": "GPU"
  },
  "cells": [
    {
      "cell_type": "code",
      "metadata": {
        "id": "UXcEyl_WazFN",
        "colab_type": "code",
        "colab": {}
      },
      "source": [
        "# How is scikit used in production\n",
        "\n",
        "# Machine learning pipelines for production and sklearn usage\n",
        "\n",
        "# https://news.ycombinator.com/item?id=13821217\n",
        "# https://medium.com/contentsquare-engineering-blog/machine-learning-in-production-c53b43283ab1"
      ],
      "execution_count": 0,
      "outputs": []
    },
    {
      "cell_type": "code",
      "metadata": {
        "id": "86NiPB7ea_Ah",
        "colab_type": "code",
        "colab": {}
      },
      "source": [
        "from pandas import read_csv\n",
        "from sklearn.model_selection import train_test_split\n",
        "\n",
        "url = \"https://raw.githubusercontent.com/baatout/ml-in-prod/master/pima-indians-diabetes.csv\"\n",
        "features = ['preg', 'plas', 'pres', 'skin', 'test', 'mass', 'pedi', 'age']\n",
        "label = 'label'\n",
        "dataframe = read_csv(url, names=features + [label])\n",
        "X = dataframe[features]\n",
        "Y = dataframe[label]\n",
        "X_train, X_test, Y_train, Y_test = train_test_split(X, Y, test_size=0.33, random_state=42)"
      ],
      "execution_count": 0,
      "outputs": []
    },
    {
      "cell_type": "code",
      "metadata": {
        "id": "jHgdBCA7bCy3",
        "colab_type": "code",
        "colab": {
          "base_uri": "https://localhost:8080/",
          "height": 68
        },
        "outputId": "040fdadd-5e5b-4b48-b25d-e164d1c16f08"
      },
      "source": [
        "# with X_train, X_test, Y_train, Y_test\n",
        "from sklearn.linear_model import LogisticRegression\n",
        "\n",
        "clf = LogisticRegression()\n",
        "clf.fit(X_train, Y_train)\n",
        "print(clf.score(X_test, Y_test))\n",
        "\n",
        "import json\n",
        "with open('logreg_coefs', 'w') as f:\n",
        "    json.dump(clf.coef_.tolist(), f)"
      ],
      "execution_count": 2,
      "outputs": [
        {
          "output_type": "stream",
          "text": [
            "0.7677165354330708\n"
          ],
          "name": "stdout"
        },
        {
          "output_type": "stream",
          "text": [
            "/usr/local/lib/python3.6/dist-packages/sklearn/linear_model/logistic.py:432: FutureWarning: Default solver will be changed to 'lbfgs' in 0.22. Specify a solver to silence this warning.\n",
            "  FutureWarning)\n"
          ],
          "name": "stderr"
        }
      ]
    },
    {
      "cell_type": "code",
      "metadata": {
        "id": "taY5wcxTbFKe",
        "colab_type": "code",
        "colab": {
          "base_uri": "https://localhost:8080/",
          "height": 153
        },
        "outputId": "2258f960-d282-4bdd-af67-e8882952291c"
      },
      "source": [
        "clf.coef_.tolist()"
      ],
      "execution_count": 4,
      "outputs": [
        {
          "output_type": "execute_result",
          "data": {
            "text/plain": [
              "[[0.06005189489881386,\n",
              "  0.02613295007437106,\n",
              "  -0.016518004199117177,\n",
              "  -0.0016981787421012395,\n",
              "  -0.0002897211570753208,\n",
              "  0.06353007516371442,\n",
              "  0.21818169993404138,\n",
              "  0.02165066073916925]]"
            ]
          },
          "metadata": {
            "tags": []
          },
          "execution_count": 4
        }
      ]
    },
    {
      "cell_type": "code",
      "metadata": {
        "id": "k65DEw58bNFB",
        "colab_type": "code",
        "colab": {}
      },
      "source": [
        ""
      ],
      "execution_count": 0,
      "outputs": []
    }
  ]
}