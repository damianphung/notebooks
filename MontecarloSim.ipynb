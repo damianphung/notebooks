{
  "nbformat": 4,
  "nbformat_minor": 0,
  "metadata": {
    "colab": {
      "name": "MontecarloSim.ipynb",
      "provenance": []
    },
    "kernelspec": {
      "name": "python3",
      "display_name": "Python 3"
    }
  },
  "cells": [
    {
      "cell_type": "code",
      "metadata": {
        "id": "MDoNvG2EvBTn",
        "colab_type": "code",
        "colab": {}
      },
      "source": [
        "%reload_ext autoreload\n",
        "%autoreload 2\n",
        "%matplotlib inline"
      ],
      "execution_count": 0,
      "outputs": []
    },
    {
      "cell_type": "code",
      "metadata": {
        "id": "RYvE_mhdu7CZ",
        "colab_type": "code",
        "colab": {}
      },
      "source": [
        "import numpy as np\n",
        "import matplotlib.pyplot as plt"
      ],
      "execution_count": 0,
      "outputs": []
    },
    {
      "cell_type": "code",
      "metadata": {
        "id": "0ed1cRM3vGRB",
        "colab_type": "code",
        "colab": {}
      },
      "source": [
        "class Configuration:\n",
        "     def __init__(self, NumberOfScenarios, NumberOfTimesteps):\n",
        "         self.NumberOfScenarios=NumberOfScenarios \n",
        "         self.NumberOfTimesteps = NumberOfTimesteps\n",
        "\n",
        "class OptionTrade:\n",
        "  def __init__(self, stock_price, strike_price, risk_free_rate,    volatility, time_to_maturity):\n",
        "        self.stock_price=stock_price\n",
        "        self.strike_price=strike_price\n",
        "        self.risk_free_rate=risk_free_rate\n",
        "        self.volatility=volatility\n",
        "        self.time_to_maturity = time_to_maturity         \n",
        "\n",
        "class GBMModel:\n",
        "    def __init__(self, Configuration):\n",
        "        self.Configuration = Configuration\n",
        "        \n",
        "    #simulate risk factors using GBM stochastic differential equation\n",
        "    def SimulateRiskFactor(self, trade):\n",
        "        prices = []\n",
        "        # for this example, we only are concerned with one time step as it’s an European option\n",
        "        timestep = 1\n",
        "        for scenarioNumber in range(self.Configuration.NumberOfScenarios):\n",
        "            normal_random_number = np.random.normal(0, 1)           \n",
        "            drift = (trade.risk_free_rate-0.5*(trade.volatility**2)) *timestep\n",
        "            uncertainty =trade.volatility*np.sqrt(timestep)*normal_random_number\n",
        "            price = trade.stock_price * np.exp(drift+uncertainty)\n",
        "            prices.append(price)    \n",
        "        return prices        \n",
        "\n",
        "class OptionTradePayoffPricer:\n",
        "    def CalculatePrice(self, trade, prices_per_scenario):\n",
        "        pay_offs = 0\n",
        "        total_scenarios = len(prices_per_scenario)\n",
        "        for i in range(total_scenarios):\n",
        "            price = prices_per_scenario[i]\n",
        "            pay_off = price - trade.strike_price\n",
        "            if(pay_off>0): \n",
        "                pay_offs=pay_offs+pay_off\n",
        "        \n",
        "        discounted_price = (np.exp(-1.0*trade.risk_free_rate * trade.time_to_maturity)*pay_offs)\n",
        "        result = discounted_price/total_scenarios\n",
        "        return result\n"
      ],
      "execution_count": 0,
      "outputs": []
    },
    {
      "cell_type": "code",
      "metadata": {
        "id": "MU44x7WGvJ_L",
        "colab_type": "code",
        "colab": {}
      },
      "source": [
        "def plot_scenario_paths(prices_per_scenario, trade):\n",
        "    x=[]\n",
        "    y=[]\n",
        "    for i in prices_per_scenario:\n",
        "        y.append(i)\n",
        "        y.append(trade.stock_price)\n",
        "        x.append(1)            \n",
        "        x.append(0)            \n",
        "        plt.plot(x, y)            \n",
        "    plt.ylabel('Stock Value')\n",
        "    plt.xlabel('Timestep')\n",
        "    plt.show()"
      ],
      "execution_count": 0,
      "outputs": []
    },
    {
      "cell_type": "code",
      "metadata": {
        "id": "GDM_ep6uva28",
        "colab_type": "code",
        "colab": {}
      },
      "source": [
        "class MonteCarloEngineSimulator:\n",
        "    \n",
        "    #instationate with configuration and the model\n",
        "    def __init__(self, configuration, model):\n",
        "        self.configuration = configuration\n",
        "        self.model = model\n",
        "        \n",
        "    #simulate trade and calculate price    \n",
        "    def Simulate(self, trade, tradePricer):\n",
        "        prices_per_scenario = self.model.SimulateRiskFactor(trade)\n",
        "        #plot scenarios\n",
        "        plot_scenario_paths(prices_per_scenario, trade)\n",
        "        price = tradePricer.CalculatePrice(trade, prices_per_scenario)\n",
        "        return price"
      ],
      "execution_count": 0,
      "outputs": []
    },
    {
      "cell_type": "code",
      "metadata": {
        "id": "4x3foUwivxH2",
        "colab_type": "code",
        "colab": {}
      },
      "source": [
        "def Main():\n",
        "    #prepare the data\n",
        "    configuration = Configuration(1000, 1) # config\n",
        "    trade = OptionTrade(200, 200, 0.15, 0.1,1) # trade\n",
        "    model = GBMModel(configuration)\n",
        "    tradePricer = OptionTradePayoffPricer()\n",
        "    simulator = MonteCarloEngineSimulator(configuration, model)\n",
        "    \n",
        "    #simulate price\n",
        "    price = simulator.Simulate(trade, tradePricer)\n",
        "    print(price)"
      ],
      "execution_count": 0,
      "outputs": []
    },
    {
      "cell_type": "code",
      "metadata": {
        "id": "D1p8fBievz0e",
        "colab_type": "code",
        "colab": {
          "base_uri": "https://localhost:8080/",
          "height": 300
        },
        "outputId": "6c4a93eb-11c5-4613-e29c-101d4693f726"
      },
      "source": [
        "Main()\n"
      ],
      "execution_count": 24,
      "outputs": [
        {
          "output_type": "display_data",
          "data": {
            "image/png": "[encoded data removed]",
            "text/plain": [
              "<Figure size 432x288 with 1 Axes>"
            ]
          },
          "metadata": {
            "tags": []
          }
        },
        {
          "output_type": "stream",
          "text": [
            "28.03481256580095\n"
          ],
          "name": "stdout"
        }
      ]
    },
    {
      "cell_type": "code",
      "metadata": {
        "id": "ap4Uf5oav1cA",
        "colab_type": "code",
        "colab": {}
      },
      "source": [
        ""
      ],
      "execution_count": 0,
      "outputs": []
    }
  ]
}